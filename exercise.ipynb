{
 "cells": [
  {
   "cell_type": "markdown",
   "metadata": {},
   "source": [
    "```\n",
    "Nama : \n",
    "Batch : \n",
    "Objective : Latihan dalam kelas sebagai catatan pembelajaran mengenai data processing dengan pandas.\n",
    "```"
   ]
  },
  {
   "cell_type": "markdown",
   "metadata": {},
   "source": [
    "# Exercise"
   ]
  },
  {
   "cell_type": "markdown",
   "metadata": {},
   "source": [
    "Terdapat 7 Case yang akan kita bahas untuk data processing hari ini,\n",
    "yang meliputi data loading, data explore, data cleaning dan data transform."
   ]
  },
  {
   "cell_type": "markdown",
   "metadata": {},
   "source": [
    "## Data Loading"
   ]
  },
  {
   "cell_type": "code",
   "execution_count": 86,
   "metadata": {},
   "outputs": [
    {
     "data": {
      "text/html": [
       "<div>\n",
       "<style scoped>\n",
       "    .dataframe tbody tr th:only-of-type {\n",
       "        vertical-align: middle;\n",
       "    }\n",
       "\n",
       "    .dataframe tbody tr th {\n",
       "        vertical-align: top;\n",
       "    }\n",
       "\n",
       "    .dataframe thead th {\n",
       "        text-align: right;\n",
       "    }\n",
       "</style>\n",
       "<table border=\"1\" class=\"dataframe\">\n",
       "  <thead>\n",
       "    <tr style=\"text-align: right;\">\n",
       "      <th></th>\n",
       "      <th>Year</th>\n",
       "      <th>Month</th>\n",
       "      <th>Day</th>\n",
       "      <th>Location</th>\n",
       "      <th>Country</th>\n",
       "      <th>Latitude</th>\n",
       "      <th>Longitude</th>\n",
       "      <th>EQ</th>\n",
       "    </tr>\n",
       "  </thead>\n",
       "  <tbody>\n",
       "    <tr>\n",
       "      <th>0</th>\n",
       "      <td>2010</td>\n",
       "      <td>1</td>\n",
       "      <td>NaN</td>\n",
       "      <td>Ecuador</td>\n",
       "      <td>Ecuador</td>\n",
       "      <td>-1.467</td>\n",
       "      <td>-78.442</td>\n",
       "      <td>NaN</td>\n",
       "    </tr>\n",
       "    <tr>\n",
       "      <th>1</th>\n",
       "      <td>2010</td>\n",
       "      <td>3</td>\n",
       "      <td>31.0</td>\n",
       "      <td>Iceland-S</td>\n",
       "      <td>Iceland</td>\n",
       "      <td>63.630</td>\n",
       "      <td>-19.620</td>\n",
       "      <td>NaN</td>\n",
       "    </tr>\n",
       "    <tr>\n",
       "      <th>2</th>\n",
       "      <td>2010</td>\n",
       "      <td>5</td>\n",
       "      <td>27.0</td>\n",
       "      <td>Guatemala</td>\n",
       "      <td>Guatemala</td>\n",
       "      <td>14.381</td>\n",
       "      <td>-90.601</td>\n",
       "      <td>NaN</td>\n",
       "    </tr>\n",
       "    <tr>\n",
       "      <th>3</th>\n",
       "      <td>2010</td>\n",
       "      <td>5</td>\n",
       "      <td>29.0</td>\n",
       "      <td>Mariana Is-C Pacific</td>\n",
       "      <td>United States</td>\n",
       "      <td>16.708</td>\n",
       "      <td>145.780</td>\n",
       "      <td>EQ</td>\n",
       "    </tr>\n",
       "    <tr>\n",
       "      <th>4</th>\n",
       "      <td>2010</td>\n",
       "      <td>8</td>\n",
       "      <td>6.0</td>\n",
       "      <td>Sangihe Is-Indonesia</td>\n",
       "      <td>Indonesia</td>\n",
       "      <td>2.780</td>\n",
       "      <td>125.480</td>\n",
       "      <td>NaN</td>\n",
       "    </tr>\n",
       "  </tbody>\n",
       "</table>\n",
       "</div>"
      ],
      "text/plain": [
       "   Year  Month   Day              Location        Country  Latitude  \\\n",
       "0  2010      1   NaN               Ecuador        Ecuador    -1.467   \n",
       "1  2010      3  31.0             Iceland-S        Iceland    63.630   \n",
       "2  2010      5  27.0             Guatemala      Guatemala    14.381   \n",
       "3  2010      5  29.0  Mariana Is-C Pacific  United States    16.708   \n",
       "4  2010      8   6.0  Sangihe Is-Indonesia      Indonesia     2.780   \n",
       "\n",
       "   Longitude   EQ  \n",
       "0    -78.442  NaN  \n",
       "1    -19.620  NaN  \n",
       "2    -90.601  NaN  \n",
       "3    145.780   EQ  \n",
       "4    125.480  NaN  "
      ]
     },
     "execution_count": 86,
     "metadata": {},
     "output_type": "execute_result"
    }
   ],
   "source": [
    "# Import library \n",
    "import pandas as pd \n",
    "import numpy\n",
    "\n",
    "# Load data\n",
    "df "
   ]
  },
  {
   "cell_type": "markdown",
   "metadata": {},
   "source": [
    "## Data Explore"
   ]
  },
  {
   "cell_type": "markdown",
   "metadata": {},
   "source": [
    "Berikut list column yang ada pada data.csv \n",
    "........."
   ]
  },
  {
   "cell_type": "code",
   "execution_count": null,
   "metadata": {},
   "outputs": [],
   "source": [
    "# Code untuk list column"
   ]
  },
  {
   "cell_type": "code",
   "execution_count": 88,
   "metadata": {},
   "outputs": [
    {
     "name": "stdout",
     "output_type": "stream",
     "text": [
      "<class 'pandas.core.frame.DataFrame'>\n",
      "RangeIndex: 15 entries, 0 to 14\n",
      "Data columns (total 8 columns):\n",
      " #   Column     Non-Null Count  Dtype  \n",
      "---  ------     --------------  -----  \n",
      " 0   Year       15 non-null     int64  \n",
      " 1   Month      15 non-null     int64  \n",
      " 2   Day        14 non-null     float64\n",
      " 3   Location   15 non-null     object \n",
      " 4   Country    15 non-null     object \n",
      " 5   Latitude   15 non-null     float64\n",
      " 6   Longitude  15 non-null     float64\n",
      " 7   EQ         3 non-null      object \n",
      "dtypes: float64(3), int64(2), object(3)\n",
      "memory usage: 1.1+ KB\n"
     ]
    }
   ],
   "source": [
    "# Data Explore\n",
    "df.info()"
   ]
  },
  {
   "cell_type": "markdown",
   "metadata": {},
   "source": [
    "## Data Cleaning"
   ]
  },
  {
   "cell_type": "markdown",
   "metadata": {},
   "source": [
    "### Missing Data"
   ]
  },
  {
   "cell_type": "code",
   "execution_count": 115,
   "metadata": {},
   "outputs": [],
   "source": [
    "\n",
    "# ? CASE 1 Data CSV\n",
    "\n",
    "# ! 1. Deleting Rows\n",
    "\n",
    "# ! 1. Deleting Column\n",
    "\n",
    "\n",
    "# ? CASE 2 Data Score\n",
    "df = pd.DataFrame({\n",
    "  \"name\": ['Ayu', 'Yuda', 'Sapta', 'John'],\n",
    "  \"score\": [90, 80, None, 60]\n",
    "})\n",
    "# ! 2. Filling Missing Values\n",
    "\n",
    "# ! 3. Interpolated\n",
    "\n",
    "\n",
    "#  ? CASE 3 Data Sales\n",
    "df = pd.DataFrame({\n",
    "  \"saller\": [\"John\", \"Doe\", \"Jean\", \"Foo\", \"Bar\", \"Lorem\", \"Ipsum\", \"Dorom\", \"Hello\", \"World\"] ,\n",
    "  \"total\": [1000, None, 4000, None, 1000, None, 8000, 1000, 2000, 2000],\n",
    "  \"sale\": [False, None, False, None, False, True, None, True, True, False],\n",
    "})\n",
    "\n",
    "# ! 4. Forward Fill\n",
    "\n",
    "\n",
    "# ! 4. Back Fill\n",
    "\n",
    "\n",
    "# ! 5. Imputation\n",
    "\n"
   ]
  },
  {
   "cell_type": "markdown",
   "metadata": {},
   "source": [
    "### Data Duplicate"
   ]
  },
  {
   "cell_type": "code",
   "execution_count": 131,
   "metadata": {},
   "outputs": [
    {
     "name": "stdout",
     "output_type": "stream",
     "text": [
      "\n",
      "Before : 80\n",
      "After : 63\n",
      "\n"
     ]
    },
    {
     "data": {
      "text/html": [
       "<div>\n",
       "<style scoped>\n",
       "    .dataframe tbody tr th:only-of-type {\n",
       "        vertical-align: middle;\n",
       "    }\n",
       "\n",
       "    .dataframe tbody tr th {\n",
       "        vertical-align: top;\n",
       "    }\n",
       "\n",
       "    .dataframe thead th {\n",
       "        text-align: right;\n",
       "    }\n",
       "</style>\n",
       "<table border=\"1\" class=\"dataframe\">\n",
       "  <thead>\n",
       "    <tr style=\"text-align: right;\">\n",
       "      <th></th>\n",
       "      <th>name</th>\n",
       "      <th>score</th>\n",
       "    </tr>\n",
       "  </thead>\n",
       "  <tbody>\n",
       "    <tr>\n",
       "      <th>0</th>\n",
       "      <td>Ayu</td>\n",
       "      <td>50</td>\n",
       "    </tr>\n",
       "    <tr>\n",
       "      <th>4</th>\n",
       "      <td>Yuda</td>\n",
       "      <td>60</td>\n",
       "    </tr>\n",
       "    <tr>\n",
       "      <th>6</th>\n",
       "      <td>Sapta</td>\n",
       "      <td>70</td>\n",
       "    </tr>\n",
       "  </tbody>\n",
       "</table>\n",
       "</div>"
      ],
      "text/plain": [
       "    name  score\n",
       "0    Ayu     50\n",
       "4   Yuda     60\n",
       "6  Sapta     70"
      ]
     },
     "execution_count": 131,
     "metadata": {},
     "output_type": "execute_result"
    }
   ],
   "source": [
    "\n",
    "# ! CASE 4 Volcano Data\n",
    "# Keep only the first data found.\n",
    "df = pd.read_csv(\"volcano_data_2010.csv\")\n",
    "\n",
    "\n",
    "# ! CASE 5 Student Score \n",
    "# Data duplikat adalah data hasil reattempt test\n",
    "#  dan data yang diambil adalah nilai terakhir.\n",
    "df = pd.DataFrame({\n",
    " \"name\": [\"Ayu\", \"Sapta\", \"Yuda\", \"Sapta\", \"Yuda\", \"Sapta\", \"Sapta\"],\n",
    " \"score\": [50, 50, 50, 60 ,60, 70, 70]\n",
    "})\n"
   ]
  },
  {
   "cell_type": "markdown",
   "metadata": {},
   "source": [
    "## Data Transform"
   ]
  },
  {
   "cell_type": "code",
   "execution_count": 152,
   "metadata": {},
   "outputs": [
    {
     "name": "stdout",
     "output_type": "stream",
     "text": [
      "<class 'pandas.core.frame.DataFrame'>\n",
      "RangeIndex: 5 entries, 0 to 4\n",
      "Data columns (total 7 columns):\n",
      " #   Column       Non-Null Count  Dtype \n",
      "---  ------       --------------  ----- \n",
      " 0   Order_ID     5 non-null      int64 \n",
      " 1   Date         5 non-null      object\n",
      " 2   Customer_ID  5 non-null      object\n",
      " 3   Product      5 non-null      object\n",
      " 4   Quantity     5 non-null      object\n",
      " 5   Price        5 non-null      object\n",
      " 6   Sale_Status  5 non-null      object\n",
      "dtypes: int64(1), object(6)\n",
      "memory usage: 412.0+ bytes\n"
     ]
    }
   ],
   "source": [
    "\n",
    "# ! CASE 6 Data Transaction\n",
    "data = {\n",
    "    'Order_ID': [101, 102, 103, 104, 105],\n",
    "    'Date': ['2023-07-15', '2023-07-16', '2023-07-17', '2023-07-18', '2023-07-19'],\n",
    "    'Customer_ID': ['C001', 'C002', 'C003', 'C004', 'C005'],\n",
    "    'Product': ['Laptop', 'Keyboard', 'Monitor', 'Mouse', 'Headphones'],\n",
    "    'Quantity': ['1', '2', '3', '4', '5'],\n",
    "    'Price': ['$1000.50', '$250.25', '$350.75', '$75.20', '$120.99'],\n",
    "    'Sale_Status': ['True', 'True', 'True', 'False', 'False']\n",
    "}\n",
    "\n",
    "df = pd.DataFrame(data)\n",
    "df.info()"
   ]
  },
  {
   "cell_type": "code",
   "execution_count": 153,
   "metadata": {},
   "outputs": [
    {
     "data": {
      "text/html": [
       "<div>\n",
       "<style scoped>\n",
       "    .dataframe tbody tr th:only-of-type {\n",
       "        vertical-align: middle;\n",
       "    }\n",
       "\n",
       "    .dataframe tbody tr th {\n",
       "        vertical-align: top;\n",
       "    }\n",
       "\n",
       "    .dataframe thead th {\n",
       "        text-align: right;\n",
       "    }\n",
       "</style>\n",
       "<table border=\"1\" class=\"dataframe\">\n",
       "  <thead>\n",
       "    <tr style=\"text-align: right;\">\n",
       "      <th></th>\n",
       "      <th>Order_ID</th>\n",
       "      <th>Date</th>\n",
       "      <th>Customer_ID</th>\n",
       "      <th>Product</th>\n",
       "      <th>Quantity</th>\n",
       "      <th>Price</th>\n",
       "      <th>Sale_Status</th>\n",
       "    </tr>\n",
       "  </thead>\n",
       "  <tbody>\n",
       "    <tr>\n",
       "      <th>0</th>\n",
       "      <td>101</td>\n",
       "      <td>2023-07-15</td>\n",
       "      <td>C001</td>\n",
       "      <td>Laptop</td>\n",
       "      <td>1</td>\n",
       "      <td>1000.50</td>\n",
       "      <td>True</td>\n",
       "    </tr>\n",
       "    <tr>\n",
       "      <th>1</th>\n",
       "      <td>102</td>\n",
       "      <td>2023-07-16</td>\n",
       "      <td>C002</td>\n",
       "      <td>Keyboard</td>\n",
       "      <td>2</td>\n",
       "      <td>250.25</td>\n",
       "      <td>True</td>\n",
       "    </tr>\n",
       "    <tr>\n",
       "      <th>2</th>\n",
       "      <td>103</td>\n",
       "      <td>2023-07-17</td>\n",
       "      <td>C003</td>\n",
       "      <td>Monitor</td>\n",
       "      <td>3</td>\n",
       "      <td>350.75</td>\n",
       "      <td>True</td>\n",
       "    </tr>\n",
       "    <tr>\n",
       "      <th>3</th>\n",
       "      <td>104</td>\n",
       "      <td>2023-07-18</td>\n",
       "      <td>C004</td>\n",
       "      <td>Mouse</td>\n",
       "      <td>4</td>\n",
       "      <td>75.20</td>\n",
       "      <td>True</td>\n",
       "    </tr>\n",
       "    <tr>\n",
       "      <th>4</th>\n",
       "      <td>105</td>\n",
       "      <td>2023-07-19</td>\n",
       "      <td>C005</td>\n",
       "      <td>Headphones</td>\n",
       "      <td>5</td>\n",
       "      <td>120.99</td>\n",
       "      <td>True</td>\n",
       "    </tr>\n",
       "  </tbody>\n",
       "</table>\n",
       "</div>"
      ],
      "text/plain": [
       "   Order_ID       Date Customer_ID     Product  Quantity    Price  Sale_Status\n",
       "0       101 2023-07-15        C001      Laptop         1  1000.50         True\n",
       "1       102 2023-07-16        C002    Keyboard         2   250.25         True\n",
       "2       103 2023-07-17        C003     Monitor         3   350.75         True\n",
       "3       104 2023-07-18        C004       Mouse         4    75.20         True\n",
       "4       105 2023-07-19        C005  Headphones         5   120.99         True"
      ]
     },
     "execution_count": 153,
     "metadata": {},
     "output_type": "execute_result"
    }
   ],
   "source": [
    "# Change data format & data type here"
   ]
  },
  {
   "cell_type": "code",
   "execution_count": 155,
   "metadata": {},
   "outputs": [
    {
     "name": "stdout",
     "output_type": "stream",
     "text": [
      "<class 'pandas.core.frame.DataFrame'>\n",
      "RangeIndex: 5 entries, 0 to 4\n",
      "Data columns (total 7 columns):\n",
      " #   Column       Non-Null Count  Dtype         \n",
      "---  ------       --------------  -----         \n",
      " 0   Order_ID     5 non-null      int64         \n",
      " 1   Date         5 non-null      datetime64[ns]\n",
      " 2   Customer_ID  5 non-null      object        \n",
      " 3   Product      5 non-null      object        \n",
      " 4   Quantity     5 non-null      int64         \n",
      " 5   Price        5 non-null      float64       \n",
      " 6   Sale_Status  5 non-null      bool          \n",
      "dtypes: bool(1), datetime64[ns](1), float64(1), int64(2), object(2)\n",
      "memory usage: 377.0+ bytes\n"
     ]
    }
   ],
   "source": [
    "df.info()"
   ]
  },
  {
   "cell_type": "markdown",
   "metadata": {},
   "source": [
    "# OOP"
   ]
  },
  {
   "cell_type": "markdown",
   "metadata": {},
   "source": [
    "Studi case ke 7 menggunakan dataset Travel Insurance.  \n",
    "\n",
    "Path file :  \n",
    "https://colab.research.google.com/github/FTDS-learning-materials/phase-0/blob/main/w2/P0W2D4PM_Data_Processing_and_Python_Scripting.ipynb#scrollTo=DVH76PNWKtlY"
   ]
  },
  {
   "cell_type": "code",
   "execution_count": null,
   "metadata": {},
   "outputs": [],
   "source": [
    "import pandas as pd\n",
    "import sys\n",
    "\n",
    "class DataProcessor:\n",
    "  pass"
   ]
  }
 ],
 "metadata": {
  "kernelspec": {
   "display_name": "base",
   "language": "python",
   "name": "python3"
  },
  "language_info": {
   "codemirror_mode": {
    "name": "ipython",
    "version": 3
   },
   "file_extension": ".py",
   "mimetype": "text/x-python",
   "name": "python",
   "nbconvert_exporter": "python",
   "pygments_lexer": "ipython3",
   "version": "3.11.3"
  }
 },
 "nbformat": 4,
 "nbformat_minor": 2
}
